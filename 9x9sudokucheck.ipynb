{
 "cells": [
  {
   "cell_type": "code",
   "execution_count": 1,
   "metadata": {},
   "outputs": [
    {
     "output_type": "error",
     "ename": "SyntaxError",
     "evalue": "invalid syntax (<ipython-input-1-5cb281aeebeb>, line 18)",
     "traceback": [
      "\u001b[1;36m  File \u001b[1;32m\"<ipython-input-1-5cb281aeebeb>\"\u001b[1;36m, line \u001b[1;32m18\u001b[0m\n\u001b[1;33m    //add dict to make more efficient\u001b[0m\n\u001b[1;37m    ^\u001b[0m\n\u001b[1;31mSyntaxError\u001b[0m\u001b[1;31m:\u001b[0m invalid syntax\n"
     ]
    }
   ],
   "source": [
    "def valid_solution(board):\n",
    "    for i in range(9):            \n",
    "        listnum=[]\n",
    "        if len(board[i])>len(set(board[i])):return False\n",
    "        for j in range(9):\n",
    "            listnum.append(board[j][i])\n",
    "            if len(listnum)>len(set(listnum)): return False\n",
    "\n",
    "            \n",
    "    for l in range(0,9,3):\n",
    "        for k in range (0,9,3):\n",
    "            listnum=[]\n",
    "            for i in range(l,l+3):\n",
    "                for j in range(k,k+3): listnum.append(board[i][j])\n",
    "            if len(listnum)>len(set(listnum)): return False\n",
    "    \n",
    "    return True\n",
    "//add dict to make more efficient\n"
   ]
  },
  {
   "cell_type": "code",
   "execution_count": null,
   "metadata": {},
   "outputs": [],
   "source": []
  }
 ],
 "metadata": {
  "kernelspec": {
   "display_name": "Python 3",
   "language": "python",
   "name": "python3"
  },
  "language_info": {
   "codemirror_mode": {
    "name": "ipython",
    "version": 3
   },
   "file_extension": ".py",
   "mimetype": "text/x-python",
   "name": "python",
   "nbconvert_exporter": "python",
   "pygments_lexer": "ipython3",
   "version": "3.8.3-final"
  }
 },
 "nbformat": 4,
 "nbformat_minor": 4
}