{
 "cells": [
  {
   "cell_type": "code",
   "execution_count": 1,
   "metadata": {},
   "outputs": [],
   "source": [
    "def valid_solution(board):\n",
    "    for i in range(9):            \n",
    "        listnum=[]\n",
    "        if len(board[i])>len(set(board[i])):return False\n",
    "        for j in range(9):\n",
    "            listnum.append(board[j][i])\n",
    "            if len(listnum)>len(set(listnum)): return False\n",
    "\n",
    "            \n",
    "    for l in range(0,9,3):\n",
    "        for k in range (0,9,3):\n",
    "            listnum=[]\n",
    "            for i in range(l,l+3):\n",
    "                for j in range(k,k+3): listnum.append(board[i][j])\n",
    "            if len(listnum)>len(set(listnum)): return False\n",
    "    \n",
    "    return True\n",
    "##use dict to make more efficient\n"
   ]
  },
  {
   "cell_type": "code",
   "execution_count": null,
   "metadata": {},
   "outputs": [],
   "source": []
  }
 ],
 "metadata": {
  "kernelspec": {
   "name": "python383jvsc74a57bd08fac594bfae6525c0c41b4041d2d72effa188cc8ead05f81b1fab2bb098927fb",
   "display_name": "Python 3.8.3 64-bit (conda)"
  },
  "language_info": {
   "codemirror_mode": {
    "name": "ipython",
    "version": 3
   },
   "file_extension": ".py",
   "mimetype": "text/x-python",
   "name": "python",
   "nbconvert_exporter": "python",
   "pygments_lexer": "ipython3",
   "version": "3.8.3"
  }
 },
 "nbformat": 4,
 "nbformat_minor": 4
}